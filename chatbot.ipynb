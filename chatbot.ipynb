{
 "cells": [
  {
   "cell_type": "code",
   "execution_count": null,
   "id": "a3927474",
   "metadata": {
    "scrolled": true
   },
   "outputs": [
    {
     "name": "stdout",
     "output_type": "stream",
     "text": [
      "GPT-3 Chatbot: Hello! How can I assist you today?\n"
     ]
    }
   ],
   "source": [
    "import openai\n",
    "from selenium import webdriver\n",
    "import csv\n",
    "import tkinter as tk\n",
    "\n",
    "\n",
    "# Set up your OpenAI API key\n",
    "openai_api_key = \n",
    "openai.api_key = openai_api_key\n",
    "\n",
    "def generate_response(user_input, content):\n",
    "    prompt = f\"You: {user_input}\\nURL: {url}\\nContent from webpage: {content}\\nGPT-3 Chatbot:\"\n",
    "    response = openai.Completion.create(\n",
    "        engine=\"text-davinci-003\",\n",
    "        prompt=prompt,\n",
    "        max_tokens=100  # Adjust as needed\n",
    "    )\n",
    "    return response.choices[0].text\n",
    "\n",
    "# Set up the Selenium driver (update the path to your ChromeDriver accordingly)\n",
    "driver = webdriver.Chrome(executable_path=\"chromedriver.exe\")\n",
    "\n",
    "# Open a new tab\n",
    "driver.execute_script(\"window.open('about:blank', '_blank');\")\n",
    "driver.switch_to.window(driver.window_handles[1])\n",
    "\n",
    "# Navigate to the webpage you want to scrape in the new tab\n",
    "url = 'https://google.com'\n",
    "driver.get(url)\n",
    "\n",
    "print(\"GPT-3 Chatbot: Hello! How can I assist you today?\")\n",
    "\n",
    "# Loop to keep the chatbot running\n",
    "while True:\n",
    "    user_input = input(\"You: \")\n",
    "    if user_input.lower() == \"exit\":\n",
    "        print(\"GPT-3 Chatbot: Goodbye!\")\n",
    "        with open('dataset.csv', 'w', newline='', encoding='utf-8') as file:\n",
    "            writer = csv.writer(file)\n",
    "            writer.writerow(' ')\n",
    "        break\n",
    "\n",
    "    # Extract the content you want (customize this part as needed)\n",
    "    try:\n",
    "        content = driver.find_element_by_tag_name('body').text\n",
    "    except:\n",
    "        content = \"Content not found\"\n",
    "\n",
    "    with open('dataset.csv', 'w', newline='', encoding='utf-8') as file:\n",
    "        writer = csv.writer(file)\n",
    "        writer.writerow([url])\n",
    "        writer.writerow([content])\n",
    "    \n",
    "    # Generate the response using the user input and content\n",
    "    response = generate_response(user_input, content)\n",
    "    print(\"GPT-3 Chatbot:\" + response)\n",
    "    \n",
    "    \n",
    "    \n",
    "\n",
    "\n",
    "# Close the driver\n",
    "driver.quit()\n"
   ]
  },
  {
   "cell_type": "code",
   "execution_count": null,
   "id": "549f0463",
   "metadata": {},
   "outputs": [],
   "source": []
  },
  {
   "cell_type": "code",
   "execution_count": null,
   "id": "3803e742",
   "metadata": {},
   "outputs": [],
   "source": []
  }
 ],
 "metadata": {
  "kernelspec": {
   "display_name": "Python 3 (ipykernel)",
   "language": "python",
   "name": "python3"
  },
  "language_info": {
   "codemirror_mode": {
    "name": "ipython",
    "version": 3
   },
   "file_extension": ".py",
   "mimetype": "text/x-python",
   "name": "python",
   "nbconvert_exporter": "python",
   "pygments_lexer": "ipython3",
   "version": "3.12.7"
  }
 },
 "nbformat": 4,
 "nbformat_minor": 5
}
